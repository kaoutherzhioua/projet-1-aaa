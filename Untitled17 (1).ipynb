{
  "nbformat": 4,
  "nbformat_minor": 0,
  "metadata": {
    "colab": {
      "name": "Untitled17.ipynb",
      "provenance": [],
      "collapsed_sections": []
    },
    "kernelspec": {
      "name": "python3",
      "display_name": "Python 3"
    },
    "language_info": {
      "name": "python"
    }
  },
  "cells": [
    {
      "cell_type": "code",
      "metadata": {
        "colab": {
          "base_uri": "https://localhost:8080/"
        },
        "id": "Zbfw3TiAliUO",
        "outputId": "0d00cbdc-f6f6-4bd4-d4d1-fe9f2fc7fdbd"
      },
      "source": [
        "import time\n",
        "\n",
        "def countdown(num_of_secs):\n",
        "    while num_of_secs>1:\n",
        "        m, s = divmod(num_of_secs, 60)\n",
        "        min_sec_format = '{:02d}:{:02d}'.format(m, s)\n",
        "        print(min_sec_format, end='/r')\n",
        "        time.sleep(1)\n",
        "        num_of_secs -= 1\n",
        "        \n",
        "    print('Fire in the hole.')\n",
        "\n",
        "inp = int(input('Input number of seconds to countdown: '))\n",
        "countdown(inp)"
      ],
      "execution_count": 5,
      "outputs": [
        {
          "output_type": "stream",
          "text": [
            "Input number of seconds to countdown: 60\n",
            "01:00/r00:59/r00:58/r00:57/r00:56/r00:55/r00:54/r00:53/r00:52/r00:51/r00:50/r00:49/r00:48/r00:47/r00:46/r00:45/r00:44/r00:43/r00:42/r00:41/r00:40/r00:39/r00:38/r00:37/r00:36/r00:35/r00:34/r00:33/r00:32/r00:31/r00:30/r00:29/r00:28/r00:27/r00:26/r00:25/r00:24/r00:23/r00:22/r00:21/r00:20/r00:19/r00:18/r00:17/r00:16/r00:15/r00:14/r00:13/r00:12/r00:11/r00:10/r00:09/r00:08/r00:07/r00:06/r00:05/r00:04/r00:03/r00:02/rFire in the hole.\n"
          ],
          "name": "stdout"
        }
      ]
    }
  ]
}